{
 "cells": [
  {
   "cell_type": "markdown",
   "id": "aea01bf5",
   "metadata": {},
   "source": [
    "# 미니 프로젝트 : 가위바위보 분류기를 만들자\n",
    "작성자: 지동현"
   ]
  },
  {
   "cell_type": "code",
   "execution_count": 2,
   "id": "cefceb46",
   "metadata": {},
   "outputs": [
    {
     "name": "stdout",
     "output_type": "stream",
     "text": [
      "2.6.0\n",
      "1.22.2\n"
     ]
    }
   ],
   "source": [
    "# 라이브러리 불러오기\n",
    "import tensorflow as tf\n",
    "import numpy as np\n",
    "\n",
    "print(tf.__version__)\n",
    "print(np.__version__)"
   ]
  },
  {
   "cell_type": "markdown",
   "id": "0ec05ba5",
   "metadata": {},
   "source": [
    "### 데이터 불러오기 + Resize 하기\n",
    "현재 저장된 이미지 사이즈는 224x224이므로 숫자 손글씨 이미지와 같이 크기를 28x28로 resize한다."
   ]
  },
  {
   "cell_type": "code",
   "execution_count": 3,
   "id": "00becd6e",
   "metadata": {},
   "outputs": [
    {
     "name": "stdout",
     "output_type": "stream",
     "text": [
      "PIL 라이브러리 import 완료!\n"
     ]
    }
   ],
   "source": [
    "from PIL import Image\n",
    "import glob\n",
    "import os\n",
    "\n",
    "print(\"PIL 라이브러리 import 완료!\")"
   ]
  },
  {
   "cell_type": "code",
   "execution_count": 4,
   "id": "628e2fd6",
   "metadata": {},
   "outputs": [
    {
     "name": "stdout",
     "output_type": "stream",
     "text": [
      "100  images to be resized.\n",
      "100  images resized.\n",
      "가위 이미지 resize 완료!\n"
     ]
    }
   ],
   "source": [
    "# 사이즈 변경 함수 정의하기\n",
    "def resize_images(img_path):\n",
    "\timages=glob.glob(img_path + \"/*.jpg\")  \n",
    "    \n",
    "\tprint(len(images), \" images to be resized.\")\n",
    "\n",
    "    # 파일마다 모두 28x28 사이즈로 바꾸어 저장합니다.\n",
    "\ttarget_size=(28,28)\n",
    "\tfor img in images:\n",
    "\t\told_img=Image.open(img)\n",
    "\t\tnew_img=old_img.resize(target_size,Image.ANTIALIAS)\n",
    "\t\tnew_img.save(img, \"JPEG\")\n",
    "    \n",
    "\tprint(len(images), \" images resized.\")\n",
    "\t\n",
    "# 가위 이미지가 저장된 디렉토리 아래의 모든 jpg 파일을 읽어들여서\n",
    "image_dir_path = os.getenv(\"HOME\") + \"/aiffel/rock_scissor_paper/scissor\"\n",
    "resize_images(image_dir_path)\n",
    "\n",
    "print(\"가위 이미지 resize 완료!\")"
   ]
  },
  {
   "cell_type": "code",
   "execution_count": 5,
   "id": "4167a076",
   "metadata": {},
   "outputs": [
    {
     "name": "stdout",
     "output_type": "stream",
     "text": [
      "100  images to be resized.\n",
      "100  images resized.\n"
     ]
    }
   ],
   "source": [
    "# 바위도 똑같이 변경\n",
    "image_dir_path = os.getenv(\"HOME\") + \"/aiffel/rock_scissor_paper/rock\"\n",
    "resize_images(image_dir_path)"
   ]
  },
  {
   "cell_type": "code",
   "execution_count": 6,
   "id": "4f082bc5",
   "metadata": {},
   "outputs": [
    {
     "name": "stdout",
     "output_type": "stream",
     "text": [
      "100  images to be resized.\n",
      "100  images resized.\n"
     ]
    }
   ],
   "source": [
    "# 보도 똑같이 변경\n",
    "image_dir_path = os.getenv(\"HOME\") + \"/aiffel/rock_scissor_paper/paper\"\n",
    "resize_images(image_dir_path)"
   ]
  },
  {
   "cell_type": "markdown",
   "id": "4de6dd55",
   "metadata": {},
   "source": [
    "### load_data() 함수 만들기\n",
    "숫자 손글씨 인식기는 mnist.load_data() 라는 함수로 데이터를 읽었던 것처럼 가위바위보도 또한 가위, 바위, 보 데이터를 읽을 수 있는 load_data() 함수를 만들어야 한다."
   ]
  },
  {
   "cell_type": "code",
   "execution_count": 7,
   "id": "026e9ce6",
   "metadata": {},
   "outputs": [
    {
     "name": "stdout",
     "output_type": "stream",
     "text": [
      "학습데이터(x_train)의 이미지 개수는 300 입니다.\n",
      "x_train shape: (300, 28, 28, 3)\n",
      "y_train shape: (300,)\n"
     ]
    }
   ],
   "source": [
    "import numpy as np\n",
    "\n",
    "def load_data(img_path, number_of_data=300):  # 가위바위보 이미지 개수 총합: 300\n",
    "    # 가위 : 0, 바위 : 1, 보 : 2\n",
    "    img_size=28\n",
    "    color=3\n",
    "    #이미지 데이터와 라벨(가위 : 0, 바위 : 1, 보 : 2) 데이터를 담을 행렬(matrix) 영역을 생성합니다.\n",
    "    imgs=np.zeros(number_of_data*img_size*img_size*color,dtype=np.int32).reshape(number_of_data,img_size,img_size,color)\n",
    "    labels=np.zeros(number_of_data,dtype=np.int32)\n",
    "\n",
    "    idx=0\n",
    "    for file in glob.iglob(img_path+'/scissor/*.jpg'):\n",
    "        img = np.array(Image.open(file),dtype=np.int32)\n",
    "        imgs[idx,:,:,:]=img    # 데이터 영역에 이미지 행렬을 복사\n",
    "        labels[idx]=0   # 가위 : 0\n",
    "        idx=idx+1\n",
    "\n",
    "    for file in glob.iglob(img_path+'/rock/*.jpg'):\n",
    "        img = np.array(Image.open(file),dtype=np.int32)\n",
    "        imgs[idx,:,:,:]=img    # 데이터 영역에 이미지 행렬을 복사\n",
    "        labels[idx]=1   # 바위 : 1\n",
    "        idx=idx+1  \n",
    "    \n",
    "    for file in glob.iglob(img_path+'/paper/*.jpg'):\n",
    "        img = np.array(Image.open(file),dtype=np.int32)\n",
    "        imgs[idx,:,:,:]=img    # 데이터 영역에 이미지 행렬을 복사\n",
    "        labels[idx]=2   # 보 : 2\n",
    "        idx=idx+1\n",
    "        \n",
    "    print(\"학습데이터(x_train)의 이미지 개수는\", idx,\"입니다.\")\n",
    "    return imgs, labels\n",
    "\n",
    "image_dir_path = os.getenv(\"HOME\") + \"/aiffel/rock_scissor_paper\"\n",
    "(x_train, y_train)=load_data(image_dir_path)\n",
    "x_train_norm = x_train/255.0   # 입력은 0~1 사이의 값으로 정규화\n",
    "\n",
    "print(\"x_train shape: {}\".format(x_train.shape))\n",
    "print(\"y_train shape: {}\".format(y_train.shape))"
   ]
  },
  {
   "cell_type": "code",
   "execution_count": 9,
   "id": "6cf07f63",
   "metadata": {},
   "outputs": [
    {
     "name": "stdout",
     "output_type": "stream",
     "text": [
      "라벨:  0\n"
     ]
    },
    {
     "data": {
      "image/png": "[encoded data removed]",
      "text/plain": [
       "<Figure size 432x288 with 1 Axes>"
      ]
     },
     "metadata": {
      "needs_background": "light"
     },
     "output_type": "display_data"
    }
   ],
   "source": [
    "# 이미지 불러오기\n",
    "import matplotlib.pyplot as plt\n",
    "\n",
    "plt.imshow(x_train[1])\n",
    "print('라벨: ', y_train[0])"
   ]
  },
  {
   "cell_type": "markdown",
   "id": "0849f3d3",
   "metadata": {},
   "source": [
    "### 딥러닝 네트워크 설계하기"
   ]
  },
  {
   "cell_type": "code",
   "execution_count": 10,
   "id": "96ee96a6",
   "metadata": {},
   "outputs": [
    {
     "name": "stdout",
     "output_type": "stream",
     "text": [
      "Model: \"sequential\"\n",
      "_________________________________________________________________\n",
      "Layer (type)                 Output Shape              Param #   \n",
      "=================================================================\n",
      "conv2d (Conv2D)              (None, 26, 26, 16)        448       \n",
      "_________________________________________________________________\n",
      "max_pooling2d (MaxPooling2D) (None, 13, 13, 16)        0         \n",
      "_________________________________________________________________\n",
      "conv2d_1 (Conv2D)            (None, 11, 11, 32)        4640      \n",
      "_________________________________________________________________\n",
      "max_pooling2d_1 (MaxPooling2 (None, 5, 5, 32)          0         \n",
      "_________________________________________________________________\n",
      "flatten (Flatten)            (None, 800)               0         \n",
      "_________________________________________________________________\n",
      "dense (Dense)                (None, 32)                25632     \n",
      "_________________________________________________________________\n",
      "dense_1 (Dense)              (None, 3)                 99        \n",
      "=================================================================\n",
      "Total params: 30,819\n",
      "Trainable params: 30,819\n",
      "Non-trainable params: 0\n",
      "_________________________________________________________________\n"
     ]
    }
   ],
   "source": [
    "import tensorflow as tf\n",
    "from tensorflow import keras\n",
    "import numpy as np\n",
    "\n",
    "# model\n",
    "model=keras.models.Sequential()\n",
    "model.add(keras.layers.Conv2D(16, (3,3), activation='relu', input_shape=(28,28,3))) # 색상: 컬러\n",
    "model.add(keras.layers.MaxPool2D(2,2))\n",
    "model.add(keras.layers.Conv2D(32, (3,3), activation='relu'))\n",
    "model.add(keras.layers.MaxPooling2D((2,2)))\n",
    "model.add(keras.layers.Flatten())\n",
    "model.add(keras.layers.Dense(32, activation='relu'))\n",
    "model.add(keras.layers.Dense(3, activation='softmax')) # 3클래스\n",
    "\n",
    "model.summary()"
   ]
  },
  {
   "cell_type": "markdown",
   "id": "939343aa",
   "metadata": {},
   "source": [
    "### 딥러닝 네트워크 학습시키기"
   ]
  },
  {
   "cell_type": "code",
   "execution_count": 11,
   "id": "5e20eb3d",
   "metadata": {},
   "outputs": [
    {
     "name": "stdout",
     "output_type": "stream",
     "text": [
      "Epoch 1/20\n",
      "10/10 [==============================] - 1s 20ms/step - loss: 1.1161 - accuracy: 0.3200\n",
      "Epoch 2/20\n",
      "10/10 [==============================] - 0s 18ms/step - loss: 1.1025 - accuracy: 0.3467\n",
      "Epoch 3/20\n",
      "10/10 [==============================] - 0s 19ms/step - loss: 1.0990 - accuracy: 0.3367\n",
      "Epoch 4/20\n",
      "10/10 [==============================] - 0s 17ms/step - loss: 1.0973 - accuracy: 0.3600\n",
      "Epoch 5/20\n",
      "10/10 [==============================] - 0s 17ms/step - loss: 1.0923 - accuracy: 0.3333\n",
      "Epoch 6/20\n",
      "10/10 [==============================] - 0s 18ms/step - loss: 1.0873 - accuracy: 0.3900\n",
      "Epoch 7/20\n",
      "10/10 [==============================] - 0s 18ms/step - loss: 1.0825 - accuracy: 0.6867\n",
      "Epoch 8/20\n",
      "10/10 [==============================] - 0s 17ms/step - loss: 1.0768 - accuracy: 0.4833\n",
      "Epoch 9/20\n",
      "10/10 [==============================] - 0s 20ms/step - loss: 1.0695 - accuracy: 0.4200\n",
      "Epoch 10/20\n",
      "10/10 [==============================] - 0s 19ms/step - loss: 1.0571 - accuracy: 0.6000\n",
      "Epoch 11/20\n",
      "10/10 [==============================] - 0s 20ms/step - loss: 1.0387 - accuracy: 0.6633\n",
      "Epoch 12/20\n",
      "10/10 [==============================] - 0s 20ms/step - loss: 1.0148 - accuracy: 0.8333\n",
      "Epoch 13/20\n",
      "10/10 [==============================] - 0s 21ms/step - loss: 0.9781 - accuracy: 0.7733\n",
      "Epoch 14/20\n",
      "10/10 [==============================] - 0s 20ms/step - loss: 0.9231 - accuracy: 0.6767\n",
      "Epoch 15/20\n",
      "10/10 [==============================] - 0s 19ms/step - loss: 0.8766 - accuracy: 0.5567\n",
      "Epoch 16/20\n",
      "10/10 [==============================] - 0s 19ms/step - loss: 0.7765 - accuracy: 0.8300\n",
      "Epoch 17/20\n",
      "10/10 [==============================] - 0s 21ms/step - loss: 0.6940 - accuracy: 0.8300\n",
      "Epoch 18/20\n",
      "10/10 [==============================] - 0s 18ms/step - loss: 0.5757 - accuracy: 0.9433\n",
      "Epoch 19/20\n",
      "10/10 [==============================] - 0s 19ms/step - loss: 0.4805 - accuracy: 0.9533\n",
      "Epoch 20/20\n",
      "10/10 [==============================] - 0s 19ms/step - loss: 0.3814 - accuracy: 0.9900\n"
     ]
    },
    {
     "data": {
      "text/plain": [
       "<keras.callbacks.History at 0x7f252d9772b0>"
      ]
     },
     "execution_count": 11,
     "metadata": {},
     "output_type": "execute_result"
    }
   ],
   "source": [
    "# model.compile()과 model.fit()을 사용\n",
    "\n",
    "x_train_reshaped=x_train_norm.reshape( -1, 28, 28, 3)\n",
    "\n",
    "model.compile(optimizer='adam',\n",
    "             loss='sparse_categorical_crossentropy',\n",
    "             metrics=['accuracy'])\n",
    "\n",
    "model.fit(x_train_reshaped, y_train, epochs=20)"
   ]
  },
  {
   "cell_type": "markdown",
   "id": "a47a2005",
   "metadata": {},
   "source": [
    "### 얼마나 잘 만들었는지 확인하기(테스트)\n",
    "우선 다른 그루분의 이미지 데이터 300장을 받아와 테스트 데이터로 사용해보았다.(# 김연님 이미지)"
   ]
  },
  {
   "cell_type": "code",
   "execution_count": 12,
   "id": "f0b59d94",
   "metadata": {},
   "outputs": [
    {
     "name": "stdout",
     "output_type": "stream",
     "text": [
      "100  images to be resized.\n",
      "100  images resized.\n",
      "100  images to be resized.\n",
      "100  images resized.\n",
      "100  images to be resized.\n",
      "100  images resized.\n",
      "학습데이터(x_train)의 이미지 개수는 300 입니다.\n",
      "x_test shape: (300, 28, 28, 3)\n",
      "y_test shape: (300,)\n"
     ]
    }
   ],
   "source": [
    "# 가위\n",
    "image_dir_path = os.getenv(\"HOME\") + \"/aiffel/rock_scissor_paper/test/scissor\"\n",
    "resize_images(image_dir_path)\n",
    "\n",
    "# 바위\n",
    "image_dir_path = os.getenv(\"HOME\") + \"/aiffel/rock_scissor_paper/test/rock\"\n",
    "resize_images(image_dir_path)\n",
    "\n",
    "# 보\n",
    "image_dir_path = os.getenv(\"HOME\") + \"/aiffel/rock_scissor_paper/test/paper\"\n",
    "resize_images(image_dir_path)\n",
    "\n",
    "image_dir_path = os.getenv(\"HOME\") + \"/aiffel/rock_scissor_paper/test\"\n",
    "(x_test, y_test)=load_data(image_dir_path)\n",
    "x_test_norm = x_test/255.0   # 입력은 0~1 사이의 값으로 정규화\n",
    "\n",
    "print(\"x_test shape: {}\".format(x_test.shape))\n",
    "print(\"y_test shape: {}\".format(y_test.shape))"
   ]
  },
  {
   "cell_type": "markdown",
   "id": "5813b381",
   "metadata": {},
   "source": [
    "### 위에서 훈련시킨 model을 사용하여 test_accuracy를 측정"
   ]
  },
  {
   "cell_type": "code",
   "execution_count": 13,
   "id": "a89fca35",
   "metadata": {},
   "outputs": [
    {
     "name": "stdout",
     "output_type": "stream",
     "text": [
      "10/10 - 0s - loss: 2.4647 - accuracy: 0.5900\n",
      "test_loss: 2.464661121368408\n",
      "test_accuracy: 0.5899999737739563\n"
     ]
    }
   ],
   "source": [
    "# model.evaluate()을 사용\n",
    "x_test_reshaped=x_test_norm.reshape( -1, 28, 28, 3)\n",
    "\n",
    "test_loss, test_accuracy = model.evaluate(x_test_reshaped,y_test, verbose=2)\n",
    "print(f\"test_loss: {test_loss}\")\n",
    "print(f\"test_accuracy: {test_accuracy}\")"
   ]
  },
  {
   "cell_type": "markdown",
   "id": "23ecc9a1",
   "metadata": {},
   "source": [
    "## 모델이 더 잘 예측할 수 있도록 train data를 추가 (Upgrade_train)\n",
    "train data: paper(824장) / rock(814) / scissor(814장) / 총 2452장\n"
   ]
  },
  {
   "cell_type": "code",
   "execution_count": 15,
   "id": "46fdff05",
   "metadata": {},
   "outputs": [
    {
     "name": "stdout",
     "output_type": "stream",
     "text": [
      "814  images to be resized.\n",
      "814  images resized.\n",
      "814  images to be resized.\n",
      "814  images resized.\n",
      "824  images to be resized.\n",
      "824  images resized.\n"
     ]
    }
   ],
   "source": [
    "# resizing\n",
    "\n",
    "#가위\n",
    "image_dir_path = os.getenv(\"HOME\") + \"/aiffel/rock_scissor_paper/upgrade_train/scissor\"\n",
    "resize_images(image_dir_path)\n",
    "\n",
    "# 바위\n",
    "image_dir_path = os.getenv(\"HOME\") + \"/aiffel/rock_scissor_paper/upgrade_train/rock\"\n",
    "resize_images(image_dir_path)\n",
    "\n",
    "# 보\n",
    "image_dir_path = os.getenv(\"HOME\") + \"/aiffel/rock_scissor_paper/upgrade_train/paper\"\n",
    "resize_images(image_dir_path)\n"
   ]
  },
  {
   "cell_type": "code",
   "execution_count": 17,
   "id": "bc360d5b",
   "metadata": {},
   "outputs": [
    {
     "name": "stdout",
     "output_type": "stream",
     "text": [
      "학습데이터(x_train)의 이미지 개수는 2452 입니다.\n",
      "x_train shape: (2452, 28, 28, 3)\n",
      "y_train shape: (2452,)\n"
     ]
    }
   ],
   "source": [
    "# train 데이터 불러오기\n",
    "image_dir_path = os.getenv(\"HOME\") + \"/aiffel/rock_scissor_paper/upgrade_train\"\n",
    "(x_train, y_train)=load_data(image_dir_path, number_of_data=2452) # 총 이미지 개수 반영!!\n",
    "x_train_norm = x_train/255.0   # 입력은 0~1 사이의 값으로 정규화\n",
    "\n",
    "print(\"x_train shape: {}\".format(x_train.shape))\n",
    "print(\"y_train shape: {}\".format(y_train.shape))"
   ]
  },
  {
   "cell_type": "code",
   "execution_count": 45,
   "id": "29b5d482",
   "metadata": {},
   "outputs": [
    {
     "name": "stdout",
     "output_type": "stream",
     "text": [
      "Epoch 1/30\n",
      "62/62 [==============================] - 2s 24ms/step - loss: 1.0246 - accuracy: 0.4518 - val_loss: 1.6837 - val_accuracy: 0.0000e+00\n",
      "Epoch 2/30\n",
      "62/62 [==============================] - 1s 22ms/step - loss: 0.9186 - accuracy: 0.5987 - val_loss: 1.5640 - val_accuracy: 0.0000e+00\n",
      "Epoch 3/30\n",
      "62/62 [==============================] - 1s 23ms/step - loss: 0.7908 - accuracy: 0.6466 - val_loss: 1.3786 - val_accuracy: 0.2505\n",
      "Epoch 4/30\n",
      "62/62 [==============================] - 1s 23ms/step - loss: 0.6517 - accuracy: 0.7063 - val_loss: 1.6490 - val_accuracy: 0.2057\n",
      "Epoch 5/30\n",
      "62/62 [==============================] - 1s 22ms/step - loss: 0.5683 - accuracy: 0.7506 - val_loss: 1.0724 - val_accuracy: 0.3910\n",
      "Epoch 6/30\n",
      "62/62 [==============================] - 1s 22ms/step - loss: 0.4826 - accuracy: 0.8016 - val_loss: 1.0178 - val_accuracy: 0.5438\n",
      "Epoch 7/30\n",
      "62/62 [==============================] - 1s 22ms/step - loss: 0.3992 - accuracy: 0.8506 - val_loss: 0.9316 - val_accuracy: 0.5845\n",
      "Epoch 8/30\n",
      "62/62 [==============================] - 1s 21ms/step - loss: 0.3394 - accuracy: 0.8807 - val_loss: 0.4270 - val_accuracy: 0.8269\n",
      "Epoch 9/30\n",
      "62/62 [==============================] - 1s 22ms/step - loss: 0.2738 - accuracy: 0.9133 - val_loss: 0.3801 - val_accuracy: 0.8697\n",
      "Epoch 10/30\n",
      "62/62 [==============================] - 1s 22ms/step - loss: 0.2233 - accuracy: 0.9352 - val_loss: 0.3082 - val_accuracy: 0.8513\n",
      "Epoch 11/30\n",
      "62/62 [==============================] - 1s 22ms/step - loss: 0.2030 - accuracy: 0.9378 - val_loss: 0.6466 - val_accuracy: 0.7067\n",
      "Epoch 12/30\n",
      "62/62 [==============================] - 1s 24ms/step - loss: 0.1649 - accuracy: 0.9572 - val_loss: 0.3289 - val_accuracy: 0.8676\n",
      "Epoch 13/30\n",
      "62/62 [==============================] - 1s 22ms/step - loss: 0.1282 - accuracy: 0.9653 - val_loss: 0.3805 - val_accuracy: 0.8859\n",
      "Epoch 14/30\n",
      "62/62 [==============================] - 1s 21ms/step - loss: 0.1120 - accuracy: 0.9750 - val_loss: 0.3417 - val_accuracy: 0.9043\n",
      "Epoch 15/30\n",
      "62/62 [==============================] - 1s 21ms/step - loss: 0.0963 - accuracy: 0.9791 - val_loss: 0.2499 - val_accuracy: 0.9206\n",
      "Epoch 16/30\n",
      "62/62 [==============================] - 1s 22ms/step - loss: 0.0867 - accuracy: 0.9786 - val_loss: 0.2467 - val_accuracy: 0.9185\n",
      "Epoch 17/30\n",
      "62/62 [==============================] - 1s 22ms/step - loss: 0.0835 - accuracy: 0.9801 - val_loss: 0.2461 - val_accuracy: 0.9246\n",
      "Epoch 18/30\n",
      "62/62 [==============================] - 1s 23ms/step - loss: 0.0668 - accuracy: 0.9893 - val_loss: 0.1994 - val_accuracy: 0.9348\n",
      "Epoch 19/30\n",
      "62/62 [==============================] - 1s 23ms/step - loss: 0.0516 - accuracy: 0.9924 - val_loss: 0.2035 - val_accuracy: 0.9287\n",
      "Epoch 20/30\n",
      "62/62 [==============================] - 1s 21ms/step - loss: 0.0521 - accuracy: 0.9918 - val_loss: 0.2809 - val_accuracy: 0.9185\n",
      "Epoch 21/30\n",
      "62/62 [==============================] - 1s 22ms/step - loss: 0.0439 - accuracy: 0.9934 - val_loss: 0.2868 - val_accuracy: 0.9104\n",
      "Epoch 22/30\n",
      "62/62 [==============================] - 1s 22ms/step - loss: 0.0359 - accuracy: 0.9939 - val_loss: 0.2184 - val_accuracy: 0.9328\n",
      "Epoch 23/30\n",
      "62/62 [==============================] - 1s 22ms/step - loss: 0.0311 - accuracy: 0.9959 - val_loss: 0.2452 - val_accuracy: 0.9389\n",
      "Epoch 24/30\n",
      "62/62 [==============================] - 1s 22ms/step - loss: 0.0319 - accuracy: 0.9944 - val_loss: 0.2401 - val_accuracy: 0.9267\n",
      "Epoch 25/30\n",
      "62/62 [==============================] - 1s 22ms/step - loss: 0.0256 - accuracy: 0.9949 - val_loss: 0.1459 - val_accuracy: 0.9633\n",
      "Epoch 26/30\n",
      "62/62 [==============================] - 1s 23ms/step - loss: 0.0200 - accuracy: 0.9975 - val_loss: 0.2377 - val_accuracy: 0.9430\n",
      "Epoch 27/30\n",
      "62/62 [==============================] - 1s 22ms/step - loss: 0.0199 - accuracy: 0.9964 - val_loss: 0.1705 - val_accuracy: 0.9511\n",
      "Epoch 28/30\n",
      "62/62 [==============================] - 1s 21ms/step - loss: 0.0159 - accuracy: 0.9980 - val_loss: 0.1607 - val_accuracy: 0.9593\n",
      "Epoch 29/30\n",
      "62/62 [==============================] - 1s 22ms/step - loss: 0.0151 - accuracy: 0.9990 - val_loss: 0.2100 - val_accuracy: 0.9511\n",
      "Epoch 30/30\n",
      "62/62 [==============================] - 1s 22ms/step - loss: 0.0128 - accuracy: 0.9985 - val_loss: 0.1331 - val_accuracy: 0.9674\n"
     ]
    },
    {
     "data": {
      "image/png": "[encoded data removed]",
      "text/plain": [
       "<Figure size 432x288 with 1 Axes>"
      ]
     },
     "metadata": {
      "needs_background": "light"
     },
     "output_type": "display_data"
    },
    {
     "data": {
      "image/png": "[encoded data removed]",
      "text/plain": [
       "<Figure size 432x288 with 1 Axes>"
      ]
     },
     "metadata": {
      "needs_background": "light"
     },
     "output_type": "display_data"
    }
   ],
   "source": [
    "# 모델 학습\n",
    "\n",
    "# 모델 초기화\n",
    "model=keras.models.Sequential()\n",
    "model.add(keras.layers.Conv2D(16, (3,3), activation='relu', input_shape=(28,28,3))) # 색상: 컬러\n",
    "model.add(keras.layers.MaxPool2D(2,2))\n",
    "model.add(keras.layers.Conv2D(32, (3,3), activation='relu'))\n",
    "model.add(keras.layers.MaxPooling2D((2,2)))\n",
    "model.add(keras.layers.Flatten())\n",
    "model.add(keras.layers.Dense(32, activation='relu'))\n",
    "model.add(keras.layers.Dense(3, activation='softmax'))\n",
    "\n",
    "x_train_reshaped=x_train_norm.reshape( -1, 28, 28, 3)\n",
    "\n",
    "model.compile(optimizer='adam',\n",
    "             loss='sparse_categorical_crossentropy',\n",
    "             metrics=['accuracy'])\n",
    "\n",
    "# 모델 학습\n",
    "history = model.fit(x_train_reshaped, y_train, validation_split=0.2, epochs=30)\n",
    "\n",
    "# 훈련 데이터와 검증 데이터에 대한 정확도\n",
    "train_acc = history.history['accuracy']\n",
    "val_acc = history.history['val_accuracy']\n",
    "\n",
    "# 훈련 데이터와 검증 데이터에 대한 손실\n",
    "train_loss = history.history['loss']\n",
    "val_loss = history.history['val_loss']\n",
    "\n",
    "# 그래프 그리기\n",
    "epochs = range(1, len(train_acc) + 1)\n",
    "\n",
    "plt.plot(epochs, train_acc, 'b', label='Train Accuracy')\n",
    "plt.plot(epochs, val_acc, 'r', label='Validation Accuracy')\n",
    "plt.title('Training and Validation Accuracy')\n",
    "plt.xlabel('Epochs')\n",
    "plt.ylabel('Accuracy')\n",
    "plt.legend()\n",
    "\n",
    "plt.figure()\n",
    "\n",
    "plt.plot(epochs, train_loss, 'b', label='Train Loss')\n",
    "plt.plot(epochs, val_loss, 'r', label='Validation Loss')\n",
    "plt.title('Training and Validation Loss')\n",
    "plt.xlabel('Epochs')\n",
    "plt.ylabel('Loss')\n",
    "plt.legend()\n",
    "\n",
    "plt.show()"
   ]
  },
  {
   "cell_type": "code",
   "execution_count": 20,
   "id": "c0997b32",
   "metadata": {},
   "outputs": [
    {
     "name": "stdout",
     "output_type": "stream",
     "text": [
      "100  images to be resized.\n",
      "100  images resized.\n",
      "100  images to be resized.\n",
      "100  images resized.\n",
      "100  images to be resized.\n",
      "100  images resized.\n",
      "학습데이터(x_train)의 이미지 개수는 300 입니다.\n",
      "x_test shape: (300, 28, 28, 3)\n",
      "y_test shape: (300,)\n"
     ]
    }
   ],
   "source": [
    "# test (이번에는 jupyter cloud내 data 폴더에 있는 이미지를 test용으로 사용해 보았다)\n",
    "\n",
    "# 가위\n",
    "image_dir_path = os.getenv(\"HOME\") + \"/aiffel/rock_scissor_paper/upgrade_train/test/scissor\"\n",
    "resize_images(image_dir_path)\n",
    "\n",
    "# 바위\n",
    "image_dir_path = os.getenv(\"HOME\") + \"/aiffel/rock_scissor_paper/upgrade_train/test/rock\"\n",
    "resize_images(image_dir_path)\n",
    "\n",
    "# 보\n",
    "image_dir_path = os.getenv(\"HOME\") + \"/aiffel/rock_scissor_paper/upgrade_train/test/paper\"\n",
    "resize_images(image_dir_path)\n",
    "\n",
    "image_dir_path = os.getenv(\"HOME\") + \"/aiffel/rock_scissor_paper/upgrade_train/test\"\n",
    "(x_test, y_test)=load_data(image_dir_path)\n",
    "x_test_norm = x_test/255.0   # 입력은 0~1 사이의 값으로 정규화\n",
    "\n",
    "print(\"x_test shape: {}\".format(x_test.shape))\n",
    "print(\"y_test shape: {}\".format(y_test.shape))"
   ]
  },
  {
   "cell_type": "code",
   "execution_count": 46,
   "id": "d15860f1",
   "metadata": {},
   "outputs": [
    {
     "name": "stdout",
     "output_type": "stream",
     "text": [
      "10/10 - 0s - loss: 7.5761 - accuracy: 0.4533\n",
      "test_loss: 7.576074123382568\n",
      "test_accuracy: 0.4533333480358124\n"
     ]
    }
   ],
   "source": [
    "x_test_reshaped=x_test_norm.reshape(-1, 28, 28, 3)\n",
    "\n",
    "test_loss, test_accuracy = model.evaluate(x_test_reshaped,y_test, verbose=2)\n",
    "print(f\"test_loss: {test_loss}\")\n",
    "print(f\"test_accuracy: {test_accuracy}\")"
   ]
  },
  {
   "cell_type": "markdown",
   "id": "c3545c36",
   "metadata": {},
   "source": [
    "# 회고\n",
    "\n",
    "- 모델 학습 시 loss 값이 0.3xxxx, 0.4xxxx 와 같이 그렇게 낮은 수치가 아닌데도 불구하고 정확도가 상당히 높게 나왔었다. 이는 가위나 바위, 보가 서로 엇비슷하게 보이지만 그래도 정답에 해당하는 클래스가 다른 두 클래스에 비해 확률은 더 높게 나온 경우가 많다는 뜻으로 이해하였다.\n",
    "\n",
    "\n",
    "- 오버피팅을 극복하기 위해 추가로 6명의 그루분의 데이터를 받아 다양성을 높이고자 하였지만 오히려 처음 데이터셋 300장으로 테스트한 결과가 더 좋게 나오는 아이러니한 상황이 발생하였다...\n",
    "\n",
    "\n",
    "- 오버피팅이 되지 않는 선에서 epoch 수를 조정하고자 epoch에 따른 accuracy 및 loss 값을 그래프로 도식화하여 적정한 epoch를 선정하였지만 여전히 50%를 넘기지는 못하였다.\n",
    "\n",
    "\n",
    "- 학습 과정에서는 정확도가 우수하게 나온데에 반해 모델을 테스트하기 위해 evaluate한 결과 그 차이가 너무나 커서 당황하지 않을 수가 없었다. 데이터 셋의 수가 많아졌지만 아무래도 더 많고 다양한 데이터 셋이 필요한 것으로 보인다.\n",
    "\n",
    "- 이미지를 resizing한 후 imgshow로 확인해 보니 알아보기 힘들 정도로 이미지가 깨져있었는데 그것 때문에 더 판별하기 어려워진 것이 아닐까? 굳이 224x224크기를 28x28로 사이즈 조정을 할 필요가 있었을까?라는 의문이 들었다.\n"
   ]
  }
 ],
 "metadata": {
  "kernelspec": {
   "display_name": "Python 3 (ipykernel)",
   "language": "python",
   "name": "python3"
  },
  "language_info": {
   "codemirror_mode": {
    "name": "ipython",
    "version": 3
   },
   "file_extension": ".py",
   "mimetype": "text/x-python",
   "name": "python",
   "nbconvert_exporter": "python",
   "pygments_lexer": "ipython3",
   "version": "3.9.7"
  }
 },
 "nbformat": 4,
 "nbformat_minor": 5
}
