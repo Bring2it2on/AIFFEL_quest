{
  "nbformat": 4,
  "nbformat_minor": 0,
  "metadata": {
    "colab": {
      "provenance": []
    },
    "kernelspec": {
      "name": "python3",
      "display_name": "Python 3"
    },
    "language_info": {
      "name": "python"
    }
  },
  "cells": [
    {
      "cell_type": "code",
      "source": [
        "!pip install ColabTurtlePlus # ColabTurtle 라이브러리 설치"
      ],
      "metadata": {
        "colab": {
          "base_uri": "https://localhost:8080/"
        },
        "id": "lhhKxkuE3-bp",
        "outputId": "2c42cb25-03f7-4103-d039-eb7edd1782fc"
      },
      "execution_count": 3,
      "outputs": [
        {
          "output_type": "stream",
          "name": "stdout",
          "text": [
            "Collecting ColabTurtlePlus\n",
            "  Downloading ColabTurtlePlus-2.0.1-py3-none-any.whl (31 kB)\n",
            "Installing collected packages: ColabTurtlePlus\n",
            "Successfully installed ColabTurtlePlus-2.0.1\n"
          ]
        }
      ]
    },
    {
      "cell_type": "code",
      "source": [
        "from ColabTurtlePlus.Turtle import * # ColabTurtle 라이브러리에서 Turtle 클래스를 import\n",
        "\n",
        "\n",
        "# 미로 데이터\n",
        "maze = [\n",
        "    [0, 1, 0, 0, 0],\n",
        "    [0, 0, 0, 1, 0],\n",
        "    [0, 1, 1, 0, 0],\n",
        "    [0, 0, 1, 1, 0],\n",
        "    [0, 0, 0, 0, 0]\n",
        "]\n",
        "\n",
        "# 시작 위치와 목적지 위치\n",
        "start_x, start_y = 0, 0\n",
        "end_x, end_y = 4, 4\n",
        "\n",
        "# 터틀 초기 설정\n",
        "window = (100, 100)\n",
        "initializeTurtle(window, 'logo')\n",
        "speed(1)\n",
        "\n",
        "# 미로 찾기 알고리즘\n",
        "def solve_maze(x, y):\n",
        "    # 목적지에 도착한 경우(조건문)\n",
        "    if x == end_x and y == end_y:\n",
        "        print(\"미로를 찾았습니다\") # \"미로를 찾았습니다\" 라는 문장을 출력하고\n",
        "        return True # True를 반환한다.\n",
        "\n",
        "    # 현재 위치에서 갈 수 있는 방향 탐색\n",
        "    for dx, dy in [(0, 1), (1, 0), (0, -1), (-1, 0)]:\n",
        "        nx, ny = x + dx, y + dy\n",
        "        # 미로 범위(0,0 ~ 4,4) 내에 있고, 갈 수 있는 길인 경우\n",
        "        # maze 행렬에 숫자 0인 부분을 찾아서 갈 수 있도록 and로 연결\n",
        "        if 0 <= nx < 5 and 0 <= ny < 5 and maze[nx][ny] == 0:\n",
        "            # 갔던 길 표시\n",
        "            maze[nx][ny] = 2\n",
        "            pendown()\n",
        "            # 다음 위치로 이동\n",
        "            goto(nx*10, ny*10)  # 거북이 다음 위치로 이동\n",
        "            penup()\n",
        "\n",
        "            # 코드를 해석해주세요!!\n",
        "            # 현재 위치가 목적지에 도달할 때까지 재귀적으로 다음 이동 장소로 찾게끔 한다\n",
        "            if solve_maze(nx, ny):\n",
        "                return True\n",
        "            else:\n",
        "                # 다시 이전으로 돌아가기\n",
        "                pendown()\n",
        "                goto(x * 10, y * 10)\n",
        "                penup()\n",
        "                # 표시된 길 0표시(지우기)\n",
        "                maze[nx][ny] = 0\n",
        "\n",
        "\n",
        "    # 길을 찾지 못한 경우\n",
        "    # \"길을 찾을 수 없습니다\"를 출력하고\n",
        "    # False를 리턴\n",
        "\n",
        "    else:\n",
        "        print(\"길을 찾을 수 없습니다\")\n",
        "        return False\n",
        "# 시작 위치에서 미로 찾기 시작\n",
        "goto(start_x, start_y)\n",
        "solve_maze(start_x, start_y)\n",
        "import pprint\n",
        "pprint.pprint(maze)"
      ],
      "metadata": {
        "colab": {
          "base_uri": "https://localhost:8080/",
          "height": 229
        },
        "outputId": "773c595a-c034-4d18-935e-ed2c9f55b7be",
        "id": "s4AJbAfp4GL4"
      },
      "execution_count": 5,
      "outputs": [
        {
          "output_type": "display_data",
          "data": {
            "text/plain": [
              "<IPython.core.display.HTML object>"
            ],
            "text/html": [
              "\n",
              "      <svg width=\"100\" height=\"100\">  \n",
              "        <rect width=\"100%\" height=\"100%\" style=\"fill:white;stroke:;stroke-width:1\"/>\n",
              "        \n",
              "        \n",
              "        <line x1=\"50.0\" y1=\"50.0\" x2=\"50.0\" y2=\"50.0\" stroke-linecap=\"round\" style=\"stroke:black;stroke-width:1\" /><line x1=\"50.0\" y1=\"50.0\" x2=\"60.0\" y2=\"50.0\" stroke-linecap=\"round\" style=\"stroke:black;stroke-width:1\" /><line x1=\"60.0\" y1=\"50.0\" x2=\"60.0\" y2=\"40.0\" stroke-linecap=\"round\" style=\"stroke:black;stroke-width:1\" /><line x1=\"60.0\" y1=\"40.0\" x2=\"60.0\" y2=\"30.0\" stroke-linecap=\"round\" style=\"stroke:black;stroke-width:1\" /><line x1=\"60.0\" y1=\"30.0\" x2=\"50.0\" y2=\"30.0\" stroke-linecap=\"round\" style=\"stroke:black;stroke-width:1\" /><line x1=\"50.0\" y1=\"30.0\" x2=\"50.0\" y2=\"20.0\" stroke-linecap=\"round\" style=\"stroke:black;stroke-width:1\" /><line x1=\"50.0\" y1=\"20.0\" x2=\"50.0\" y2=\"10.0\" stroke-linecap=\"round\" style=\"stroke:black;stroke-width:1\" /><line x1=\"50.0\" y1=\"10.0\" x2=\"60.0\" y2=\"10.0\" stroke-linecap=\"round\" style=\"stroke:black;stroke-width:1\" /><line x1=\"60.0\" y1=\"10.0\" x2=\"70.0\" y2=\"10.0\" stroke-linecap=\"round\" style=\"stroke:black;stroke-width:1\" /><line x1=\"70.0\" y1=\"10.0\" x2=\"80.0\" y2=\"10.0\" stroke-linecap=\"round\" style=\"stroke:black;stroke-width:1\" /><line x1=\"80.0\" y1=\"10.0\" x2=\"90.0\" y2=\"10.0\" stroke-linecap=\"round\" style=\"stroke:black;stroke-width:1\" />\n",
              "        \n",
              "        \n",
              "        <g id=\"classic\" visibility=\"visible\" transform=\"rotate(-180.0,90.0,10.0) translate(90.0, 10.0)\">\n",
              "<polygon points=\"-5,-4.5 0,-2.5 5,-4.5 0,4.5\" transform=\"skewX(0) scale(1,1)\" style=\"stroke:black;fill:black;stroke-width:1\" />\n",
              "</g>\n",
              "      </svg>\n",
              "    "
            ]
          },
          "metadata": {}
        },
        {
          "output_type": "stream",
          "name": "stdout",
          "text": [
            "미로를 찾았습니다\n",
            "[[0, 1, 2, 2, 2],\n",
            " [2, 2, 2, 1, 2],\n",
            " [0, 1, 1, 0, 2],\n",
            " [0, 0, 1, 1, 2],\n",
            " [0, 0, 0, 0, 2]]\n"
          ]
        }
      ]
    },
    {
      "cell_type": "markdown",
      "source": [
        "##<u>**회고**</u>\n",
        "\n",
        "1. colabturtle에서 어떤 함수들이 사용되는 지 몰라서 각 함수가 어떤 작용을 하는지 이해하는데 어려움이 있었습니다.\n",
        "\n",
        "2. 미로의 경로, 즉 maze의 2차원 리스트를 보고 미로가 어떤 식으로 구성되어 있는지 상상이 잘 안갑니다...ㅠ\n",
        "\n",
        "3. 리스트 인덱싱, 조건문 for 와 if를 활용하는 것에 더 익숙해졌다."
      ],
      "metadata": {
        "id": "MTp83JLQ5ArI"
      }
    }
  ]
}