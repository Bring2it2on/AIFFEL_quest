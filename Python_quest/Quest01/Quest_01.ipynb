{
 "cells": [
  {
   "cell_type": "markdown",
   "metadata": {
    "colab_type": "text",
    "id": "view-in-github"
   },
   "source": [
    "<a href=\"https://colab.research.google.com/github/Bring2it2on/aiffel_quest/blob/main/Quest_01.ipynb\" target=\"_parent\"><img src=\"https://colab.research.google.com/assets/colab-badge.svg\" alt=\"Open In Colab\"/></a>"
   ]
  },
  {
   "cell_type": "code",
   "execution_count": 3,
   "metadata": {
    "colab": {
     "base_uri": "https://localhost:8080/"
    },
    "id": "DuE4AN02Efj7",
    "outputId": "f655858b-6d8a-49a4-898a-d4a8421b32f2"
   },
   "outputs": [
    {
     "name": "stdout",
     "output_type": "stream",
     "text": [
      "입력값: 박해극\n",
      "출력값: 극해박\n",
      "입력된 값은 회문이 아닙니다\n"
     ]
    }
   ],
   "source": [
    "word = str(input('입력값: '))\n",
    "reverse_name = ''\n",
    "\n",
    "for c in word:\n",
    "  reverse_name = c + reverse_name\n",
    "\n",
    "print('출력값: '+reverse_name)\n",
    "\n",
    "if reverse_name == word:\n",
    "  print('입력된 값은 회문입니다')\n",
    "else:\n",
    "  print('입력된 값은 회문이 아닙니다')"
   ]
  },
  {
   "cell_type": "markdown",
   "metadata": {},
   "source": [
    "# AIFFEL Campus Online 5th Code Peer Review Templete\n",
    "- 코더 : 지동현\n",
    "- 리뷰어 : 박해극\n",
    "\n",
    "\n",
    "# PRT(PeerReviewTemplate) \n",
    "각 항목을 스스로 확인하고 토의하여 작성한 코드에 적용합니다.\n",
    "\n",
    "- [X] 코드가 정상적으로 동작하고 주어진 문제를 해결했나요?\n",
    "  넵 잘 작동합니다!!!\n",
    "- [ ] 주석을 보고 작성자의 코드가 이해되었나요?\n",
    "  > 주석이 없어 어떤 과정을 밟아서 되었는지는 모르겠습니다.\n",
    "- [ ] 코드가 에러를 유발할 가능성이 없나요?\n",
    "  > \n",
    "- [ ] 코드 작성자가 코드를 제대로 이해하고 작성했나요?\n",
    "  > 네 \n",
    "- [ ] 코드가 간결한가요?\n",
    "  > 코드가 간결하지만 주석에 어떤식으로 반대로 입력 되는지 로직을 설명했으면 더 좋았을 것 같습니다.\n",
    "\n",
    "# 예시\n",
    "1. for 문에서 어떻게 반대로 reverse_name 에 추가가 되는지 설명이 있으면 좋을 것 같습니다.\n",
    "2. c 가 하나씩 들어가면 반대방향이 아닌 처음부터 들어가는 것 처럼 이해가 됩니다.\n",
    "```python\n",
    "word = str(input('입력값: '))\n",
    "reverse_name = ''\n",
    "\n",
    "for c in word:\n",
    "  reverse_name = c + reverse_name\n",
    "\n",
    "print('출력값: '+reverse_name)\n",
    "\n",
    "if reverse_name == word:\n",
    "  print('입력된 값은 회문입니다')\n",
    "else:\n",
    "  print('입력된 값은 회문이 아닙니다')\n",
    "```\n",
    "\n",
    "# 참고 링크 및 코드 개선\n",
    "```python\n",
    "# 코드 리뷰 시 참고한 링크가 있다면 링크와 간략한 설명을 첨부합니다.\n",
    "# 코드 리뷰를 통해 개선한 코드가 있다면 코드와 간략한 설명을 첨부합니다."
   ]
  }
 ],
 "metadata": {
  "colab": {
   "authorship_tag": "ABX9TyObOptaZTVdjiAFLUwo2kr7",
   "include_colab_link": true,
   "mount_file_id": "1weckzpLOFelyBPcB_pFU0TWI_HjAq2lP",
   "provenance": []
  },
  "kernelspec": {
   "display_name": "Python 3 (ipykernel)",
   "language": "python",
   "name": "python3"
  },
  "language_info": {
   "codemirror_mode": {
    "name": "ipython",
    "version": 3
   },
   "file_extension": ".py",
   "mimetype": "text/x-python",
   "name": "python",
   "nbconvert_exporter": "python",
   "pygments_lexer": "ipython3",
   "version": "3.9.7"
  }
 },
 "nbformat": 4,
 "nbformat_minor": 1
}
