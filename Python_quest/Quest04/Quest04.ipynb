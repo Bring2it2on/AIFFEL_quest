{
 "cells": [
  {
   "cell_type": "code",
   "execution_count": 3,
   "metadata": {},
   "outputs": [
    {
     "name": "stdout",
     "output_type": "stream",
     "text": [
      "Using Comprehension:\n",
      "Nemo is swimming at 3 m/s\n",
      "Dory is swimming at 5 m/s\n",
      "Using Generator:\n",
      "Nemo is swimming at 3 m/s\n",
      "Dory is swimming at 5 m/s\n"
     ]
    }
   ],
   "source": [
    "#물고기 리스트 생성\n",
    "fish_list = [\n",
    "{\"이름\": \"Nemo\", \"speed\": 3}, \n",
    "{\"이름\": \"Dory\", \"speed\": 5},\n",
    "]\n",
    "\n",
    "#컴프리헨션 함수 정의\n",
    "def fish_movement_comprehension(fish_list):\n",
    "    movement = [f\"{fish['이름']} is swimming at {fish['speed']} m/s\" for fish in fish_list]\n",
    "    for move in movement: # movement 내용을 차례대로 표기\n",
    "        print(move)\n",
    "    return\n",
    "\n",
    "#제너레이터 함수 정의 및 호출\n",
    "def fish_movement_generator(fish_list):\n",
    "    for fish in fish_list:\n",
    "        yield f\"{fish['이름']} is swimming at {fish['speed']} m/s\"\n",
    "\n",
    "def show_fish_movement_generator(fish_list):\n",
    "    for result in fish_movement_generator(fish_list):\n",
    "        print(result)\n",
    "\n",
    "print(\"Using Comprehension:\")\n",
    "fish_movement_comprehension(fish_list)\n",
    "print(\"Using Generator:\")\n",
    "show_fish_movement_generator(fish_list)\n",
    "\n",
    "#제너레이터 함수를 호출할 때 두개의 함수를 만들었는데 이걸 하나로 합칠 수 있지 않을까 싶어요...\n",
    "#근데 방법이 떠오르지가 않습니다ㅠㅠ\n",
    "#이번 퀘스트는 뭔가 쉬운듯 하면서도 어렵네요."
   ]
  }
 ],
 "metadata": {
  "kernelspec": {
   "display_name": "condanote",
   "language": "python",
   "name": "conda"
  },
  "language_info": {
   "codemirror_mode": {
    "name": "ipython",
    "version": 3
   },
   "file_extension": ".py",
   "mimetype": "text/x-python",
   "name": "python",
   "nbconvert_exporter": "python",
   "pygments_lexer": "ipython3",
   "version": "3.9.1"
  },
  "orig_nbformat": 4
 },
 "nbformat": 4,
 "nbformat_minor": 2
}
